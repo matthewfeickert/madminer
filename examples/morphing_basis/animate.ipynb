{
 "cells": [
  {
   "cell_type": "markdown",
   "metadata": {},
   "source": [
    "# Morphing basis animations"
   ]
  },
  {
   "cell_type": "markdown",
   "metadata": {},
   "source": [
    "Let's make something cool:\n",
    "\n",
    "![morphing animation](morphing.gif)"
   ]
  },
  {
   "cell_type": "code",
   "execution_count": 5,
   "metadata": {},
   "outputs": [],
   "source": [
    "import numpy as np\n",
    "import matplotlib\n",
    "from matplotlib import pyplot as plt\n",
    "from matplotlib.animation import FuncAnimation\n",
    "\n",
    "%matplotlib inline\n",
    "\n",
    "from madminer.utils.morphing import PhysicsMorpher as Morpher"
   ]
  },
  {
   "cell_type": "markdown",
   "metadata": {},
   "source": [
    "## Settings"
   ]
  },
  {
   "cell_type": "code",
   "execution_count": 6,
   "metadata": {},
   "outputs": [],
   "source": [
    "n_runs = 10\n",
    "n_resolution = 200\n",
    "n_frames = 8 * 25\n",
    "\n",
    "randomness1 = 0.3\n",
    "randomness2 = 0.6"
   ]
  },
  {
   "cell_type": "markdown",
   "metadata": {},
   "source": [
    "## Preparation"
   ]
  },
  {
   "cell_type": "code",
   "execution_count": 7,
   "metadata": {},
   "outputs": [],
   "source": [
    "morpher = Morpher(\n",
    "    parameter_max_power=[4, 4],\n",
    "    parameter_range=[(-1.0, 1.0), (-1.0, 1.0)],\n",
    ")\n",
    "morpher.find_components(max_overall_power=4)"
   ]
  },
  {
   "cell_type": "code",
   "execution_count": 8,
   "metadata": {},
   "outputs": [],
   "source": [
    "xi = np.linspace(-1.0, 1.0, n_resolution)\n",
    "yi = np.linspace(-1.0, 1.0, n_resolution)\n",
    "xx, yy = np.meshgrid(xi, yi)\n",
    "xx = xx.reshape((-1, 1))\n",
    "yy = yy.reshape((-1, 1))\n",
    "theta_evaluation = np.hstack([xx, yy])"
   ]
  },
  {
   "cell_type": "markdown",
   "metadata": {},
   "source": [
    "## Basis evaluation"
   ]
  },
  {
   "cell_type": "code",
   "execution_count": 9,
   "metadata": {},
   "outputs": [],
   "source": [
    "def evaluate_basis(basis=None):\n",
    "\n",
    "    # Optimization\n",
    "    if basis is None:\n",
    "        basis = morpher.optimize_basis(n_bases=1)\n",
    "\n",
    "    # Evaluate basis\n",
    "    squared_weights = []\n",
    "\n",
    "    for theta in theta_evaluation:\n",
    "        wi = morpher.calculate_morphing_weights(theta, basis)\n",
    "        squared_weights.append(np.sum(wi * wi) ** 0.5)\n",
    "\n",
    "    squared_weights = np.array(squared_weights).reshape((n_resolution, n_resolution))\n",
    "\n",
    "    return squared_weights"
   ]
  },
  {
   "cell_type": "markdown",
   "metadata": {},
   "source": [
    "## Basis point trajectories"
   ]
  },
  {
   "cell_type": "code",
   "execution_count": 10,
   "metadata": {},
   "outputs": [],
   "source": [
    "def initialize_trajectories():\n",
    "    global theta1, theta2, theta_phase, theta_order\n",
    "\n",
    "    # fmt: off\n",
    "    theta_fix = np.array([\n",
    "       [ 0.0       ,  0.0       ],\n",
    "       [-0.83182450,  0.85645093],\n",
    "       [-0.82002127, -0.85191237],\n",
    "       [ 0.76870769, -0.81272456],\n",
    "       [ 0.78199620,  0.86242685],\n",
    "       [-0.57243257,  0.37755934],\n",
    "       [-0.29730939,  0.74563426],\n",
    "       [ 0.13777926,  0.35254704],\n",
    "       [ 0.46330191,  0.51783982],\n",
    "       [ 0.64649576, -0.01232633],\n",
    "       [ 0.16629182, -0.29365045],\n",
    "       [ 0.39752054, -0.64235507],\n",
    "       [-0.19238158, -0.59962178],\n",
    "       [-0.30730345, -0.09697784],\n",
    "       [-0.70631846, -0.18913046],\n",
    "    ])\n",
    "    # fmt: on\n",
    "\n",
    "    n_benchmarks = theta_fix.shape[0]\n",
    "\n",
    "    theta_order = np.random.randint(1, 4, (n_benchmarks, 2))\n",
    "\n",
    "    random_points = -1.0 + 2.0 * np.random.rand(n_benchmarks, 2)\n",
    "    random_point_weights = randomness1 * np.random.rand(n_benchmarks, 2) / theta_order.astype(float)\n",
    "    theta1 = (1.0 - random_point_weights) * theta_fix + random_point_weights * random_points\n",
    "\n",
    "    random_points = -1.0 + 2.0 * np.random.rand(n_benchmarks, 2)\n",
    "    random_point_weights = randomness2 * np.random.rand(n_benchmarks, 2) / theta_order.astype(float)\n",
    "    theta2 = (1.0 - random_point_weights) * theta_fix + random_point_weights * random_points\n",
    "\n",
    "    theta_phase = 2.0 * np.pi * np.random.rand(n_benchmarks, 2)"
   ]
  },
  {
   "cell_type": "code",
   "execution_count": 11,
   "metadata": {},
   "outputs": [],
   "source": [
    "def calculate_basis(t):\n",
    "    basis = 0.5 * (\n",
    "        (theta1 + theta2) + (theta1 - theta2) * np.sin(2.0 * np.pi * theta_order * t / n_frames + theta_phase)\n",
    "    )\n",
    "    return basis"
   ]
  },
  {
   "cell_type": "markdown",
   "metadata": {},
   "source": [
    "## Animation"
   ]
  },
  {
   "cell_type": "code",
   "execution_count": 12,
   "metadata": {},
   "outputs": [],
   "source": [
    "def initialize_animation():\n",
    "    global basis, squared_weights\n",
    "\n",
    "    initialize_trajectories()\n",
    "    basis = calculate_basis(0)\n",
    "    squared_weights = evaluate_basis(basis)"
   ]
  },
  {
   "cell_type": "code",
   "execution_count": 13,
   "metadata": {},
   "outputs": [],
   "source": [
    "def update(t):\n",
    "    global basis, squared_weights\n",
    "\n",
    "    basis = calculate_basis(t)\n",
    "    squared_weights = evaluate_basis(basis)\n",
    "\n",
    "    scatter.set_offsets(basis)\n",
    "    pcm.set_array(squared_weights[:-1, :-1].ravel())\n",
    "\n",
    "    if (t + 1) % 10 == 0:\n",
    "        print(\"  Frame\", t + 1, \"/\", n_frames)"
   ]
  },
  {
   "cell_type": "code",
   "execution_count": 14,
   "metadata": {},
   "outputs": [],
   "source": [
    "def make_animation(i):\n",
    "    global pcm, scatter\n",
    "\n",
    "    fig = plt.figure(figsize=(5.0, 4.0))\n",
    "    ax = plt.gca()\n",
    "\n",
    "    pcm = ax.pcolormesh(\n",
    "        xi,\n",
    "        yi,\n",
    "        squared_weights,\n",
    "        norm=matplotlib.colors.LogNorm(vmin=0.5, vmax=200.0),\n",
    "        cmap=\"viridis_r\",\n",
    "    )\n",
    "    cbar = fig.colorbar(pcm, ax=ax, extend=\"both\")\n",
    "\n",
    "    scatter = plt.scatter(basis[:, 0], basis[:, 1], s=40.0, c=\"black\")\n",
    "\n",
    "    plt.xlabel(r\"$\\theta_0$\")\n",
    "    plt.ylabel(r\"$\\theta_1$\")\n",
    "    cbar.set_label(r\"$\\sqrt{\\sum w_i^2}$\")\n",
    "    plt.xlim(-1.0, 1.0)\n",
    "    plt.ylim(-1.0, 1.0)\n",
    "\n",
    "    plt.tight_layout()\n",
    "\n",
    "    anim = FuncAnimation(fig, update, frames=np.arange(0, n_frames), interval=40)\n",
    "    anim.save(f\"animations/run_{i}.gif\", dpi=120, writer=\"imagemagick\")"
   ]
  },
  {
   "cell_type": "markdown",
   "metadata": {},
   "source": [
    "## Main loop"
   ]
  },
  {
   "cell_type": "code",
   "execution_count": null,
   "metadata": {},
   "outputs": [],
   "source": [
    "for i in range(n_runs):\n",
    "    print(f\"Run {i+1} / {n_runs}\")\n",
    "    initialize_animation()\n",
    "    make_animation(i)"
   ]
  }
 ],
 "metadata": {
  "kernelspec": {
   "display_name": "Python 3",
   "language": "python",
   "name": "python3"
  },
  "language_info": {
   "codemirror_mode": {
    "name": "ipython",
    "version": 3
   },
   "file_extension": ".py",
   "mimetype": "text/x-python",
   "name": "python",
   "nbconvert_exporter": "python",
   "pygments_lexer": "ipython3",
   "version": "3.8.2"
  }
 },
 "nbformat": 4,
 "nbformat_minor": 2
}
