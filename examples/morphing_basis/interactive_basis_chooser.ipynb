{
 "cells": [
  {
   "cell_type": "markdown",
   "metadata": {},
   "source": [
    "# Interactive basis plaything"
   ]
  },
  {
   "cell_type": "markdown",
   "metadata": {},
   "source": [
    "Allows you to interactively move the basis points (black dots) like in the animation below.\n",
    "\n",
    "![morphing animation](morphing.gif)"
   ]
  },
  {
   "cell_type": "code",
   "execution_count": 2,
   "metadata": {},
   "outputs": [],
   "source": [
    "import bqplot\n",
    "import numpy as np\n",
    "from IPython.display import display\n",
    "from ipywidgets import Layout\n",
    "\n",
    "%matplotlib notebook\n",
    "\n",
    "from madminer.utils.morphing import PhysicsMorpher as Morpher"
   ]
  },
  {
   "cell_type": "markdown",
   "metadata": {},
   "source": [
    "## Settings"
   ]
  },
  {
   "cell_type": "code",
   "execution_count": 3,
   "metadata": {},
   "outputs": [],
   "source": [
    "n_bases = 1\n",
    "n_resolution = 50"
   ]
  },
  {
   "cell_type": "markdown",
   "metadata": {},
   "source": [
    "## Preparation"
   ]
  },
  {
   "cell_type": "code",
   "execution_count": 4,
   "metadata": {},
   "outputs": [],
   "source": [
    "morpher = Morpher(\n",
    "    parameter_max_power=[4, 4],\n",
    "    parameter_range=[(-1.0, 1.0), (-1.0, 1.0)],\n",
    ")\n",
    "morpher.find_components(max_overall_power=4)"
   ]
  },
  {
   "cell_type": "code",
   "execution_count": 5,
   "metadata": {},
   "outputs": [],
   "source": [
    "xi = np.linspace(-1.0, 1.0, n_resolution)\n",
    "yi = np.linspace(-1.0, 1.0, n_resolution)\n",
    "xx, yy = np.meshgrid(xi, yi)\n",
    "xx = xx.reshape((-1, 1))\n",
    "yy = yy.reshape((-1, 1))\n",
    "theta_evaluation = np.hstack([xx, yy])\n",
    "\n",
    "x_updated = False\n",
    "y_updated = False"
   ]
  },
  {
   "cell_type": "markdown",
   "metadata": {},
   "source": [
    "## Basis evaluation"
   ]
  },
  {
   "cell_type": "code",
   "execution_count": 6,
   "metadata": {},
   "outputs": [],
   "source": [
    "def evaluate_basis(basis=None):\n",
    "\n",
    "    # Optimization\n",
    "    if basis is None:\n",
    "        basis = morpher.optimize_basis()\n",
    "\n",
    "    # Evaluate basis\n",
    "    squared_weights = []\n",
    "\n",
    "    for theta in theta_evaluation:\n",
    "        wi = morpher.calculate_morphing_weights(theta, basis)\n",
    "        squared_weights.append(np.sum(wi * wi) ** 0.5)\n",
    "\n",
    "    squared_weights = np.array(squared_weights).reshape((n_resolution, n_resolution))\n",
    "\n",
    "    return basis, squared_weights"
   ]
  },
  {
   "cell_type": "markdown",
   "metadata": {},
   "source": [
    "## Initial set up"
   ]
  },
  {
   "cell_type": "code",
   "execution_count": 7,
   "metadata": {},
   "outputs": [],
   "source": [
    "basis, squared_weights = evaluate_basis(None)"
   ]
  },
  {
   "cell_type": "markdown",
   "metadata": {},
   "source": [
    "## Interactive tool"
   ]
  },
  {
   "cell_type": "code",
   "execution_count": 8,
   "metadata": {},
   "outputs": [],
   "source": [
    "def update(change):\n",
    "    global basis, squared_weights, x_updated, y_updated\n",
    "\n",
    "    variable = change[\"name\"]\n",
    "    values = change[\"new\"]\n",
    "\n",
    "    if variable == \"x\":\n",
    "        basis[:, 0] = values\n",
    "        x_updated = True\n",
    "    elif variable == \"y\":\n",
    "        basis[:, 1] = values\n",
    "        y_updated = True\n",
    "\n",
    "    if x_updated and y_updated:\n",
    "        basis, squared_weights = evaluate_basis(basis)\n",
    "        heat.color = np.log(squared_weights) / np.log(10)\n",
    "\n",
    "        x_updated = False\n",
    "        y_updated = False"
   ]
  },
  {
   "cell_type": "code",
   "execution_count": 9,
   "metadata": {},
   "outputs": [
    {
     "data": {
      "application/vnd.jupyter.widget-view+json": {
       "model_id": "023eb3403e754aec98b2dcb1d4026d74",
       "version_major": 2,
       "version_minor": 0
      },
      "text/plain": [
       "RmlndXJlKGF4ZXM9W0F4aXMobGFiZWw9dSdmVycsIHNjYWxlPUxpbmVhclNjYWxlKG1heD0xLjAsIG1pbj0tMS4wKSksIEF4aXMobGFiZWw9dSdmV1cnLCBvcmllbnRhdGlvbj0ndmVydGljYWzigKY=\n"
      ]
     },
     "metadata": {},
     "output_type": "display_data"
    }
   ],
   "source": [
    "x_sc = bqplot.scales.LinearScale(min=-1.0, max=1.0)\n",
    "y_sc = bqplot.scales.LinearScale(min=-1.0, max=1.0)\n",
    "c_sc = bqplot.scales.ColorScale(min=0, max=1.0, scheme=\"YlOrRd\")\n",
    "\n",
    "heat = bqplot.GridHeatMap(\n",
    "    color=np.log(squared_weights) / np.log(10),\n",
    "    scales={\"row\": x_sc, \"column\": y_sc, \"color\": c_sc},\n",
    "    row=yi,\n",
    "    column=xi,\n",
    "    stroke=None,\n",
    ")\n",
    "\n",
    "scatter = bqplot.Scatter(\n",
    "    colors=[\"black\"] * len(basis[:, 0]),\n",
    "    x=basis[:, 0],\n",
    "    y=basis[:, 1],\n",
    "    scales={\"x\": x_sc, \"y\": y_sc},\n",
    ")\n",
    "\n",
    "ax_x = bqplot.Axis(scale=x_sc, label=\"fW\")\n",
    "ax_y = bqplot.Axis(scale=y_sc, orientation=\"vertical\", label=\"fWW\")\n",
    "ax_c = bqplot.ColorAxis(scale=c_sc, orientation=\"vertical\", side=\"right\")\n",
    "\n",
    "fig = bqplot.Figure(\n",
    "    marks=[heat, scatter],\n",
    "    axes=[ax_x, ax_y, ax_c],\n",
    "    layout=Layout(width=\"600px\", height=\"600px\"),\n",
    ")\n",
    "\n",
    "display(fig)\n",
    "\n",
    "scatter.observe(update, [\"y\", \"x\"])\n",
    "scatter.enable_move = True"
   ]
  },
  {
   "cell_type": "code",
   "execution_count": null,
   "metadata": {
    "collapsed": true
   },
   "outputs": [],
   "source": []
  }
 ],
 "metadata": {
  "kernelspec": {
   "display_name": "Python 3",
   "language": "python",
   "name": "python3"
  },
  "language_info": {
   "codemirror_mode": {
    "name": "ipython",
    "version": 3
   },
   "file_extension": ".py",
   "mimetype": "text/x-python",
   "name": "python",
   "nbconvert_exporter": "python",
   "pygments_lexer": "ipython3",
   "version": "3.8.2"
  }
 },
 "nbformat": 4,
 "nbformat_minor": 2
}
